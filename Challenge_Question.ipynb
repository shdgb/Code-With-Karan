{
  "nbformat": 4,
  "nbformat_minor": 0,
  "metadata": {
    "colab": {
      "provenance": [],
      "authorship_tag": "ABX9TyMIadJYPWcxpaiohNrr30Uv",
      "include_colab_link": true
    },
    "kernelspec": {
      "name": "python3",
      "display_name": "Python 3"
    },
    "language_info": {
      "name": "python"
    }
  },
  "cells": [
    {
      "cell_type": "markdown",
      "metadata": {
        "id": "view-in-github",
        "colab_type": "text"
      },
      "source": [
        "<a href=\"https://colab.research.google.com/github/shdgb/Code-With-Karan/blob/main/Challenge_Question.ipynb\" target=\"_parent\"><img src=\"https://colab.research.google.com/assets/colab-badge.svg\" alt=\"Open In Colab\"/></a>"
      ]
    },
    {
      "cell_type": "code",
      "execution_count": 1,
      "metadata": {
        "colab": {
          "base_uri": "https://localhost:8080/"
        },
        "id": "BVbtlogjJaAx",
        "outputId": "7baf3c3e-c941-4d30-db03-9cd97c531059"
      },
      "outputs": [
        {
          "output_type": "stream",
          "name": "stdout",
          "text": [
            "Original List: ['Ram', 1, 'Shyam', 2, 'Aman', 3]\n",
            "Sorted List (Strings first, then Numbers): ['Aman', 'Ram', 'Shyam', 1, 2, 3]\n"
          ]
        }
      ],
      "source": [
        "L = [\"Ram\", 1, \"Shyam\", 2, \"Aman\", 3]\n",
        "print(\"Original List:\", L)\n",
        "\n",
        "# Separate strings and integers\n",
        "strings = [x for x in L if isinstance(x, str)]\n",
        "numbers = [x for x in L if isinstance(x, int)]\n",
        "\n",
        "# Sort each type\n",
        "strings.sort()\n",
        "numbers.sort()\n",
        "\n",
        "# Combine back (optional)\n",
        "L_sorted = strings + numbers\n",
        "print(\"Sorted List (Strings first, then Numbers):\", L_sorted)"
      ]
    },
    {
      "cell_type": "code",
      "source": [],
      "metadata": {
        "id": "jNjA2ztSJfP7"
      },
      "execution_count": null,
      "outputs": []
    }
  ]
}