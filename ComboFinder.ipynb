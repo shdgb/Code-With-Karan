{
  "nbformat": 4,
  "nbformat_minor": 0,
  "metadata": {
    "colab": {
      "provenance": [],
      "authorship_tag": "ABX9TyOc04I4qSpWztQHEI/RxZdW",
      "include_colab_link": true
    },
    "kernelspec": {
      "name": "python3",
      "display_name": "Python 3"
    },
    "language_info": {
      "name": "python"
    }
  },
  "cells": [
    {
      "cell_type": "markdown",
      "metadata": {
        "id": "view-in-github",
        "colab_type": "text"
      },
      "source": [
        "<a href=\"https://colab.research.google.com/github/shdgb/Day-2-Python/blob/main/ComboFinder.ipynb\" target=\"_parent\"><img src=\"https://colab.research.google.com/assets/colab-badge.svg\" alt=\"Open In Colab\"/></a>"
      ]
    },
    {
      "cell_type": "code",
      "execution_count": null,
      "metadata": {
        "colab": {
          "base_uri": "https://localhost:8080/"
        },
        "id": "DPM76-HIFrqD",
        "outputId": "61c1641e-474d-432a-b251-5d4b93e03752"
      },
      "outputs": [
        {
          "output_type": "stream",
          "name": "stdout",
          "text": [
            "Total combos: 42\n",
            "('p10', 'p11', 'p12', 'p4', 'p5', 'p8') → ₹ 295\n",
            "('p11', 'p14', 'p2', 'p4', 'p7', 'p8', 'p9') → ₹ 295\n",
            "('p11', 'p12', 'p13', 'p4', 'p6', 'p8') → ₹ 310\n",
            "('p1', 'p10', 'p11', 'p2', 'p5', 'p6', 'p8', 'p9') → ₹ 310\n",
            "('p10', 'p11', 'p14', 'p5', 'p6', 'p9') → ₹ 290\n",
            "('p10', 'p11', 'p14', 'p5', 'p7', 'p9') → ₹ 305\n",
            "('p1', 'p11', 'p12', 'p14', 'p2', 'p3', 'p5', 'p8') → ₹ 300\n",
            "('p10', 'p2', 'p3', 'p4', 'p5', 'p6', 'p7', 'p9') → ₹ 290\n",
            "('p11', 'p13', 'p3', 'p5', 'p7', 'p9') → ₹ 290\n",
            "('p1', 'p11', 'p14', 'p2', 'p3', 'p4', 'p5', 'p8', 'p9') → ₹ 305\n",
            "('p1', 'p10', 'p13', 'p14', 'p4', 'p5', 'p9') → ₹ 295\n",
            "('p13', 'p14', 'p2', 'p3', 'p4', 'p5', 'p8', 'p9') → ₹ 300\n",
            "('p10', 'p13', 'p14', 'p4', 'p7', 'p8') → ₹ 290\n",
            "('p11', 'p12', 'p2', 'p7', 'p8', 'p9') → ₹ 300\n",
            "('p11', 'p2', 'p3', 'p4', 'p6', 'p7', 'p8', 'p9') → ₹ 305\n",
            "('p10', 'p12', 'p13', 'p2', 'p3', 'p7') → ₹ 290\n",
            "('p1', 'p12', 'p13', 'p2', 'p3', 'p4', 'p8', 'p9') → ₹ 310\n",
            "('p1', 'p12', 'p13', 'p2', 'p6', 'p7', 'p9') → ₹ 310\n",
            "('p1', 'p12', 'p14', 'p2', 'p3', 'p6', 'p7', 'p8') → ₹ 290\n",
            "('p1', 'p10', 'p12', 'p4', 'p5', 'p7', 'p9') → ₹ 305\n",
            "('p1', 'p10', 'p14', 'p3', 'p5', 'p6', 'p8', 'p9') → ₹ 295\n",
            "('p10', 'p11', 'p13', 'p14', 'p3', 'p6') → ₹ 295\n",
            "('p1', 'p12', 'p13', 'p3', 'p5', 'p7', 'p8') → ₹ 295\n",
            "('p1', 'p10', 'p11', 'p14', 'p2', 'p3', 'p8', 'p9') → ₹ 310\n",
            "('p10', 'p12', 'p2', 'p3', 'p6', 'p8', 'p9') → ₹ 300\n",
            "('p10', 'p13', 'p14', 'p6', 'p7', 'p8') → ₹ 300\n",
            "('p1', 'p10', 'p14', 'p3', 'p4', 'p6', 'p7', 'p9') → ₹ 300\n",
            "('p1', 'p12', 'p13', 'p4', 'p5', 'p6', 'p9') → ₹ 300\n",
            "('p13', 'p14', 'p2', 'p4', 'p5', 'p6', 'p7', 'p8') → ₹ 310\n",
            "('p1', 'p10', 'p13', 'p2', 'p3', 'p4', 'p7', 'p8') → ₹ 290\n",
            "('p1', 'p10', 'p14', 'p2', 'p3', 'p4', 'p5', 'p7', 'p8') → ₹ 295\n",
            "('p10', 'p12', 'p13', 'p14', 'p2', 'p3', 'p4') → ₹ 310\n",
            "('p1', 'p12', 'p14', 'p3', 'p4', 'p5', 'p6', 'p9') → ₹ 295\n",
            "('p12', 'p2', 'p3', 'p4', 'p5', 'p6', 'p8', 'p9') → ₹ 295\n",
            "('p10', 'p13', 'p2', 'p4', 'p6', 'p7', 'p8') → ₹ 295\n",
            "('p10', 'p11', 'p14', 'p2', 'p4', 'p6', 'p9') → ₹ 300\n",
            "('p1', 'p14', 'p2', 'p3', 'p4', 'p5', 'p7', 'p8', 'p9') → ₹ 290\n",
            "('p1', 'p10', 'p11', 'p13', 'p5', 'p9') → ₹ 290\n",
            "('p1', 'p10', 'p11', 'p13', 'p2', 'p3', 'p4', 'p8') → ₹ 305\n",
            "('p10', 'p11', 'p2', 'p3', 'p4', 'p5', 'p6', 'p7') → ₹ 300\n",
            "('p10', 'p12', 'p13', 'p2', 'p5', 'p7') → ₹ 300\n",
            "('p1', 'p10', 'p12', 'p2', 'p3', 'p4', 'p5', 'p6', 'p8') → ₹ 310\n"
          ]
        }
      ],
      "source": [
        "import random as r\n",
        "\n",
        "products = {'p1':10, 'p2':15, 'p3':20, 'p4':25, 'p5':30, 'p6':35, 'p7':50,\n",
        "               'p8':40, 'p9':55, 'p10':60, 'p11':65, 'p12':75, 'p13':70,\n",
        "               'p14':45}\n",
        "\n",
        "\n",
        "LB = 290\n",
        "UB = 310\n",
        "result = set()\n",
        "\n",
        "for _ in range(1000):\n",
        "    size = r.randint(2, len(products)-1)\n",
        "    combo = r.sample(list(products), size)\n",
        "    total = sum(products[p] for p in combo)\n",
        "    if LB <= total <= UB:\n",
        "        result.add(tuple(sorted(combo)))\n",
        "\n",
        "print(f\"Total combos: {len(result)}\")\n",
        "for combo in result:\n",
        "    print(combo, \"→ ₹\", sum(products[p] for p in combo))"
      ]
    }
  ]
}